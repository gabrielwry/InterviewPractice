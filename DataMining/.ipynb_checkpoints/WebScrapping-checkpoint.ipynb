{
 "cells": [
  {
   "cell_type": "code",
   "execution_count": 6,
   "metadata": {},
   "outputs": [],
   "source": [
    "from requests import get\n",
    "from requests.exceptions import RequestException\n",
    "from contextlib import closing\n",
    "from bs4 import BeautifulSoup\n"
   ]
  },
  {
   "cell_type": "markdown",
   "metadata": {},
   "source": [
    "Import libraries"
   ]
  },
  {
   "cell_type": "code",
   "execution_count": 8,
   "metadata": {},
   "outputs": [],
   "source": [
    "def simple_get(url):\n",
    "    \"\"\"\n",
    "    Attempts to get the content at `url` by making an HTTP GET request.\n",
    "    If the content-type of response is some kind of HTML/XML, return the\n",
    "    text content, otherwise return None\n",
    "    \"\"\"\n",
    "    try:\n",
    "        with closing(get(url, stream=True)) as resp:\n",
    "            if is_good_response(resp):\n",
    "                return resp.content\n",
    "            else:\n",
    "                return None\n",
    "\n",
    "    except RequestException as e:\n",
    "        log_error('Error during requests to {0} : {1}'.format(url, str(e)))\n",
    "        return None\n",
    "\n",
    "\n",
    "def is_good_response(resp):\n",
    "    \"\"\"\n",
    "    Returns true if the response seems to be HTML, false otherwise\n",
    "    \"\"\"\n",
    "    content_type = resp.headers['Content-Type'].lower()\n",
    "    return (resp.status_code == 200 \n",
    "            and content_type is not None \n",
    "            and content_type.find('html') > -1)\n",
    "\n",
    "\n",
    "def log_error(e):\n",
    "    \"\"\"\n",
    "    It is always a good idea to log errors. \n",
    "    This function just prints them, but you can\n",
    "    make it do anything.\n",
    "    \"\"\"\n",
    "    print(e)\n",
    "\n",
    "#print(simple_get('https://www.fifaindex.com/'))"
   ]
  },
  {
   "cell_type": "code",
   "execution_count": 36,
   "metadata": {},
   "outputs": [
    {
     "name": "stdout",
     "output_type": "stream",
     "text": [
      "/player/158023/lionel-messi/\n",
      "/player/20801/cristiano-ronaldo/\n",
      "/player/190871/neymar/\n",
      "/player/176580/luis-su%C3%A1rez/\n",
      "/player/167495/manuel-neuer/\n",
      "/player/193080/de-gea/\n",
      "/player/192985/kevin-de-bruyne/\n",
      "/player/188545/robert-lewandowski/\n",
      "/player/183277/eden-hazard/\n",
      "/player/182521/toni-kroos/\n",
      "/player/167664/gonzalo-higua%C3%ADn/\n",
      "/player/155862/sergio-ramos/\n",
      "/player/211110/paulo-dybala/\n",
      "/player/192119/thibaut-courtois/\n",
      "/player/178603/mats-hummels/\n",
      "/player/177003/luka-modri%C4%87/\n",
      "/player/168542/david-silva/\n",
      "/player/153079/sergio-ag%C3%BCero/\n",
      "/player/138956/giorgio-chiellini/\n",
      "/player/1179/gianluigi-buffon/\n",
      "/player/215914/ngolo-kant%C3%A9/\n",
      "/player/202126/harry-kane/\n",
      "/player/200389/jan-oblak/\n",
      "/player/195864/paul-pogba/\n",
      "/player/194765/antoine-griezmann/\n",
      "/player/190460/christian-eriksen/\n",
      "/player/189509/thiago/\n",
      "/player/184941/alexis-s%C3%A1nchez/\n",
      "/player/182493/diego-god%C3%ADn/\n",
      "/player/179813/edinson-cavani/\n"
     ]
    }
   ],
   "source": [
    "base_url = 'https://www.fifaindex.com/'\n",
    "raw_html = simple_get('https://www.fifaindex.com/players/')\n",
    "html = BeautifulSoup(raw_html,'html.parser')\n",
    "player_html = []\n",
    "player={\n",
    "    'Name':None,\n",
    "    'Nation':None,\n",
    "    'Age':None,\n",
    "    'Ratings':None,\n",
    "    'Position':None,\n",
    "    'Team':None,\n",
    "    'Height':None,\n",
    "    'Weight':None,\n",
    "    'Preferred Foot':None,\n",
    "    'Birth Date': None,\n",
    "    \n",
    "}\n",
    "for td in html.find_all('td',{\"data-title\":\"Name\"}):\n",
    "    for a in td.select('a'):\n",
    "        print(base_url+a['href'])"
   ]
  },
  {
   "cell_type": "code",
   "execution_count": null,
   "metadata": {},
   "outputs": [],
   "source": []
  }
 ],
 "metadata": {
  "kernelspec": {
   "display_name": "Python 3",
   "language": "python",
   "name": "python3"
  },
  "language_info": {
   "codemirror_mode": {
    "name": "ipython",
    "version": 3
   },
   "file_extension": ".py",
   "mimetype": "text/x-python",
   "name": "python",
   "nbconvert_exporter": "python",
   "pygments_lexer": "ipython3",
   "version": "3.6.4rc1"
  }
 },
 "nbformat": 4,
 "nbformat_minor": 2
}
